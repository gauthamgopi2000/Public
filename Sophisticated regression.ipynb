{
 "cells": [
  {
   "cell_type": "markdown",
   "metadata": {},
   "source": [
    "# Sophisticated regression analysis\n",
    "\n",
    "In order to do a regression analysis, we'll have to collect some data on your bitchiness and plot it on a graph. "
   ]
  },
  {
   "cell_type": "code",
   "execution_count": 24,
   "metadata": {},
   "outputs": [
    {
     "data": {
      "text/plain": [
       "Text(0, 0.5, 'Niceness')"
      ]
     },
     "execution_count": 24,
     "metadata": {},
     "output_type": "execute_result"
    },
    {
     "data": {
      "image/png": "[encoded data removed]",
      "text/plain": [
       "<Figure size 432x288 with 1 Axes>"
      ]
     },
     "metadata": {
      "needs_background": "light"
     },
     "output_type": "display_data"
    }
   ],
   "source": [
    "import scipy.stats\n",
    "import numpy as np\n",
    "import matplotlib.pyplot as plt\n",
    "%matplotlib inline\n",
    "\n",
    "def decay(N0,k,t,dt):\n",
    "\n",
    "    N=N0\n",
    "    time=0.\n",
    "    D=0.\n",
    "    x=[]\n",
    "    y=[]\n",
    "    while time<t:\n",
    "        u=k*N*dt\n",
    "        pdecay = u*np.exp(-u)\n",
    "        rand=np.random.uniform(0.,1.)\n",
    "        if rand<pdecay:\n",
    "            N=N-1.\n",
    "            D=1.\n",
    "        time+=dt\n",
    "        x.append(time)\n",
    "        y.append(D)\n",
    "        D=0.\n",
    "    return (np.array(x),np.array(y))\n",
    "\n",
    "(x,y)=decay(1000.,1.,2.,0.00001)\n",
    "\n",
    "def decayhist(data,dtbin,T,dt):\n",
    "    histdata=[]\n",
    "    for k in np.arange(dtbin/2.,T+(dtbin/2.),dtbin):\n",
    "        for i in np.arange(int((k-dtbin/2.)/dt),int((k+dtbin/2.)/dt),1):\n",
    "            if y[i]>0.5:\n",
    "                histdata.append(k)\n",
    "    data=plt.hist(histdata,np.arange(0.,T+dtbin,dtbin))\n",
    "    plt.close()\n",
    "    ydata=data[0]\n",
    "    xdata=data[1]+np.full(data[1].size,dtbin/2.)\n",
    "    return(xdata[0:(xdata.size-1)],ydata)\n",
    "(xdata,ydata)=decayhist(y,0.1,2.,0.00001)\n",
    "plt.plot(xdata,ydata,\"x\")\n",
    "plt.xlabel(\"Jo-Ann-ness\")\n",
    "plt.ylabel(\"Niceness\")"
   ]
  },
  {
   "cell_type": "markdown",
   "metadata": {},
   "source": [
    "**Hmmmmm. The data shows a fascinating trend. Let's draw a curve of best fit and see if it can provide any deep insights.Although I already have my intuitions.......** "
   ]
  },
  {
   "cell_type": "code",
   "execution_count": 25,
   "metadata": {},
   "outputs": [
    {
     "name": "stdout",
     "output_type": "stream",
     "text": [
      "Exponential decay function with parameters k= 1.04 D= 102.82\n"
     ]
    },
    {
     "data": {
      "image/png": "[encoded data removed]",
      "text/plain": [
       "<Figure size 432x288 with 1 Axes>"
      ]
     },
     "metadata": {
      "needs_background": "light"
     },
     "output_type": "display_data"
    }
   ],
   "source": [
    "import scipy.optimize as opt\n",
    "def fitlogdata(xin,yin):\n",
    "    lnD=np.log(yin)\n",
    "    def linearfunc(x,m,c):\n",
    "        return m*x+c\n",
    "    (popt,pcov)=np.polyfit(xin,lnD,1,cov=True)\n",
    "    k=-popt[0]\n",
    "    D0=np.exp(popt[1])\n",
    "    return (k,D0,np.sqrt(pcov[0,0]),np.sqrt(pcov[1,1]))\n",
    "(k,D0,dk,dD0)=fitlogdata(xdata,ydata)\n",
    "xfit=np.arange(0.,2.,0.01)\n",
    "yfit=D0*np.exp(-k*xfit)\n",
    "plt.plot(xfit,yfit)\n",
    "plt.plot(xdata,ydata, \"x\")\n",
    "plt.xlabel(\"Jo-Ann-ness\")\n",
    "plt.ylabel(\"Niceness\")\n",
    "print(\"Exponential decay function with parameters\"+\" k= \"+str(round(k,2))+\" D= \"+str(round(D0,2)))"
   ]
  },
  {
   "cell_type": "markdown",
   "metadata": {},
   "source": [
    "I knew it. It's an exponential decay function with the general form:\n",
    "\n",
    "$$\n",
    "y=D e^{-kx}\n",
    "$$"
   ]
  },
  {
   "cell_type": "markdown",
   "metadata": {},
   "source": [
    "Now, we just need to insert the values of the parameters D and k, and this gives us the equation for your bitchiness:\n",
    "\n",
    "$$\n",
    "y=102.94 e^{-1.05x}\n",
    "$$"
   ]
  },
  {
   "cell_type": "markdown",
   "metadata": {},
   "source": [
    "*Babe, this confirms that you're exponentially bitchy. Happy five month-versary, cutiepie.*"
   ]
  },
  {
   "cell_type": "code",
   "execution_count": null,
   "metadata": {},
   "outputs": [],
   "source": []
  }
 ],
 "metadata": {
  "kernelspec": {
   "display_name": "Python 3.7.4",
   "language": "python",
   "name": "python-3-7-4-venv"
  },
  "language_info": {
   "codemirror_mode": {
    "name": "ipython",
    "version": 3
   },
   "file_extension": ".py",
   "mimetype": "text/x-python",
   "name": "python",
   "nbconvert_exporter": "python",
   "pygments_lexer": "ipython3",
   "version": "3.7.4"
  }
 },
 "nbformat": 4,
 "nbformat_minor": 2
}
